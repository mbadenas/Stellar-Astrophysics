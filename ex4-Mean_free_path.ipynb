{
 "cells": [
  {
   "cell_type": "code",
   "execution_count": 3,
   "metadata": {
    "collapsed": true
   },
   "outputs": [],
   "source": [
    "import numpy as np"
   ]
  },
  {
   "cell_type": "markdown",
   "metadata": {},
   "source": [
    "# Stellar Structure\n",
    "## Exercise 4: Radiation and mean free path\n",
    "Data:\n",
    "\n",
    "$$ R_\\odot=7\\times 10^{10} \\text{cm}\\\\\n",
    "L_\\odot = 4\\times 10^{33} \\text{ergs/s}\\\\\n",
    "T_{\\text{eff},\\odot} = 6\\times 10^{4} \\text{K}$$ \n",
    "\n",
    "Extra data from the Internet:\n",
    "\n",
    "$$ M_\\odot = 2\\times 10^{-8} \\text{g}\\\\\n",
    "G = 6.674 \\times 10^{33} \\text{cm^3 g/s^2} \\\\\n",
    "a = 7.556 \\times 10^{-15} \\text{erg cm^-3 k^-4}$$\n",
    "\n",
    "### 1. From the virial theorem calculate the average temperature of the Sun\n",
    "\n",
    "We will assume the internal energy of the Sun to be the one of a blackbody:\n",
    "\n",
    "$$ U = uV_\\odot = aT^4\\frac{4}{3}\\pi R_\\odot^3 $$\n",
    "\n",
    "Therefore the virial theorem states:\n",
    "\n",
    "$$ U=-\\frac{\\Omega}{2} \\Rightarrow aT^4\\frac{4}{3}\\pi R_\\odot^3 = \\frac{3}{10}G\\frac{M_\\odot^2}{R_\\odot} \\\\\n",
    "T_{av} =\\bigg(\\frac{9 G M_\\odot^2}{40 a \\pi R_\\odot^4}\\bigg)^{1/4}$$"
   ]
  },
  {
   "cell_type": "code",
   "execution_count": 8,
   "metadata": {},
   "outputs": [],
   "source": [
    "Rsun =7e10\n",
    "Lsun = 4e33\n",
    "Teff_sun = 6e4\n",
    "Msun = 2e33\n",
    "G = 6.674e-8 \n",
    "a = 7.556e-15"
   ]
  },
  {
   "cell_type": "code",
   "execution_count": 10,
   "metadata": {},
   "outputs": [
    {
     "name": "stdout",
     "output_type": "stream",
     "text": [
      "Taverage = 1.80e+07\n"
     ]
    }
   ],
   "source": [
    "Tav = np.power(9*G*Msun**2/(40*a*np.pi*Rsun**4),.25)\n",
    "print 'Taverage = %.2e' %Tav"
   ]
  },
  {
   "cell_type": "markdown",
   "metadata": {},
   "source": [
    "### 2. Assuming the photons do not diffuse, what would be the luminosity of the Sun?\n",
    "Two approaches, assumiong a blackbody of temperature $T_{av}$ instead of $T_{eff}$ and using the formula:\n",
    "\n",
    "$$ L=\\frac{E}{\\tau}=\\frac{uV_\\odot}{\\tau} $$\n",
    "\n",
    "where $\\tau$ is the time photons spend escaping from the Sun."
   ]
  },
  {
   "cell_type": "code",
   "execution_count": 15,
   "metadata": {},
   "outputs": [
    {
     "name": "stdout",
     "output_type": "stream",
     "text": [
      "Lblackbody = 3.68e+47\n",
      "Lescapetime = 4.90e+47\n"
     ]
    }
   ],
   "source": [
    "c = 3e10\n",
    "sigma = 5.6704e-5\n",
    "Lblack = 4*np.pi*Rsun**2*sigma*Tav**4\n",
    "tau = Rsun/c\n",
    "E = a*Tav**4*4/3*np.pi*Rsun**3\n",
    "Lescape = E/tau\n",
    "print 'Lblackbody = %.2e' %Lblack\n",
    "print 'Lescapetime = %.2e' %Lescape"
   ]
  },
  {
   "cell_type": "markdown",
   "metadata": {},
   "source": [
    "### 3. Find the mean free path to account for this luminosity\n",
    "\n",
    "Now we will use that the photons do a random walk across the sun, colliding every distance $l$, the mean free path. Then, the distance advanced will be:\n",
    "\n",
    "$$ d = l*\\sqrt{N} $$\n",
    "\n",
    "where $N$ is the number of steps. For a photon traveling a distance $R_\\odot$, we have:\n",
    "\n",
    "$$ d=R_\\odot \\Rightarrow N=\\frac{R_\\odot^2}{l^2} $$\n",
    "\n",
    "Then, the distance travelled, which is what is actually used to calculate $\\tau$ will be:\n",
    "\n",
    "$$ D=lN=\\frac{R_\\odot^2}{l} \\\\\n",
    "\\tau = \\frac{D}{c} = \\frac{R_\\odot^2}{lc}$$\n",
    "\n",
    "Therefore:\n",
    "\n",
    "$$ L=\\frac{E}{\\tau}=\\frac{Elc}{R_\\odot^2} \\Rightarrow l= \\frac{LR_\\odot^2}{Ec}$$"
   ]
  },
  {
   "cell_type": "code",
   "execution_count": 16,
   "metadata": {},
   "outputs": [
    {
     "name": "stdout",
     "output_type": "stream",
     "text": [
      "Mean free path = 5.71e-04\n"
     ]
    }
   ],
   "source": [
    "l = Lsun*Rsun**2/(E*c)\n",
    "print 'Mean free path = %.2e' %l"
   ]
  },
  {
   "cell_type": "code",
   "execution_count": null,
   "metadata": {
    "collapsed": true
   },
   "outputs": [],
   "source": []
  }
 ],
 "metadata": {
  "kernelspec": {
   "display_name": "Python 2",
   "language": "python",
   "name": "python2"
  },
  "language_info": {
   "codemirror_mode": {
    "name": "ipython",
    "version": 2
   },
   "file_extension": ".py",
   "mimetype": "text/x-python",
   "name": "python",
   "nbconvert_exporter": "python",
   "pygments_lexer": "ipython2",
   "version": "2.7.14"
  }
 },
 "nbformat": 4,
 "nbformat_minor": 2
}
